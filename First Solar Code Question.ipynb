{
 "metadata": {
  "name": "",
  "signature": "sha256:58f01a051d972b5389c0ccf9b408b0a261dd1247f1eeea73acf0222d9dc36424"
 },
 "nbformat": 3,
 "nbformat_minor": 0,
 "worksheets": [
  {
   "cells": [
    {
     "cell_type": "markdown",
     "metadata": {},
     "source": [
      "First Solar Interview Program\n",
      "--------------------------------\n",
      "\n",
      "Write a program that takes a user inputed string, reverses the string, adds a '1' onto the end of the string, and displays the output."
     ]
    },
    {
     "cell_type": "code",
     "collapsed": false,
     "input": [
      "str_in = raw_input('Enter your input string:')"
     ],
     "language": "python",
     "metadata": {},
     "outputs": [
      {
       "name": "stdout",
       "output_type": "stream",
       "stream": "stdout",
       "text": [
        "Enter your input string:illusive\n"
       ]
      }
     ],
     "prompt_number": 17
    },
    {
     "cell_type": "markdown",
     "metadata": {},
     "source": [
      "If you tried to use the `input` function at this point, you would have to include quote marks around whatever you type to denote it as a string. Otherwise you python will try to reference it as a pre-existing variable."
     ]
    },
    {
     "cell_type": "code",
     "collapsed": false,
     "input": [
      "str_rev = str_in[::-1] #Slice the string and tell python to iterate through it in reverse"
     ],
     "language": "python",
     "metadata": {},
     "outputs": [],
     "prompt_number": 21
    },
    {
     "cell_type": "code",
     "collapsed": false,
     "input": [
      "str_out = str_rev + '1' #Concatenate the numeral '1' to the end of the string"
     ],
     "language": "python",
     "metadata": {},
     "outputs": [],
     "prompt_number": 22
    },
    {
     "cell_type": "code",
     "collapsed": false,
     "input": [
      "print str_out"
     ],
     "language": "python",
     "metadata": {},
     "outputs": [
      {
       "output_type": "stream",
       "stream": "stdout",
       "text": [
        "evisulli1\n"
       ]
      }
     ],
     "prompt_number": 23
    }
   ],
   "metadata": {}
  }
 ]
}